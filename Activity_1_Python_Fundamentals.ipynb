{
  "nbformat": 4,
  "nbformat_minor": 0,
  "metadata": {
    "colab": {
      "name": "Activity 1 - Python Fundamentals",
      "provenance": [],
      "collapsed_sections": [],
      "authorship_tag": "ABX9TyMqbR2OL3OuTuyww67sXFD/",
      "include_colab_link": true
    },
    "kernelspec": {
      "name": "python3",
      "display_name": "Python 3"
    },
    "language_info": {
      "name": "python"
    }
  },
  "cells": [
    {
      "cell_type": "markdown",
      "metadata": {
        "id": "view-in-github",
        "colab_type": "text"
      },
      "source": [
        "<a href=\"https://colab.research.google.com/github/krissydolor/Linear-Algebra-_-2nd-Sem/blob/main/Activity_1_Python_Fundamentals.ipynb\" target=\"_parent\"><img src=\"https://colab.research.google.com/assets/colab-badge.svg\" alt=\"Open In Colab\"/></a>"
      ]
    },
    {
      "cell_type": "markdown",
      "source": [
        "# Welcome to Python Fundamentals\n",
        "In this module, we are going to establish or review our skills in Python programming. In this notebook we are going to cover:\n",
        "* Variables and Data Types \n",
        "* Operations\n",
        "* Input and Output Operations\n",
        "* Logic Control\n",
        "* Iterables\n",
        "* Functions"
      ],
      "metadata": {
        "id": "EDQuZvw-sLys"
      }
    },
    {
      "cell_type": "markdown",
      "source": [
        "## Variable and Data Types"
      ],
      "metadata": {
        "id": "s_6-KVCKtFeX"
      }
    },
    {
      "cell_type": "markdown",
      "source": [
        "###### Variables and data types in Python are, as the name implies, values that change. A variable is a memory region in a computer language to store a value. The value you've saved may change in the future if the specs change."
      ],
      "metadata": {
        "id": "8E6dQdCnbZKR"
      }
    },
    {
      "cell_type": "code",
      "source": [
        "x = 1\n",
        "a,b = 0, -1"
      ],
      "metadata": {
        "id": "2GoBp1jUtOb_"
      },
      "execution_count": null,
      "outputs": []
    },
    {
      "cell_type": "code",
      "source": [
        "type(x)"
      ],
      "metadata": {
        "colab": {
          "base_uri": "https://localhost:8080/"
        },
        "id": "H20uvU1_tVfs",
        "outputId": "a693ecd9-f8bd-4087-e064-f00ced478e56"
      },
      "execution_count": null,
      "outputs": [
        {
          "output_type": "execute_result",
          "data": {
            "text/plain": [
              "float"
            ]
          },
          "metadata": {},
          "execution_count": 25
        }
      ]
    },
    {
      "cell_type": "code",
      "source": [
        "y = 1.0\n",
        "type(y)"
      ],
      "metadata": {
        "colab": {
          "base_uri": "https://localhost:8080/"
        },
        "id": "QjkU0tf1tvpf",
        "outputId": "fd9d0bcf-027b-4b24-a2e1-138364fdce09"
      },
      "execution_count": null,
      "outputs": [
        {
          "output_type": "execute_result",
          "data": {
            "text/plain": [
              "float"
            ]
          },
          "metadata": {},
          "execution_count": 24
        }
      ]
    },
    {
      "cell_type": "code",
      "source": [
        "x = float(x)\n",
        "type(x)"
      ],
      "metadata": {
        "colab": {
          "base_uri": "https://localhost:8080/"
        },
        "id": "pOwxhCvZt9Kn",
        "outputId": "89577745-7d3d-4e06-8f68-b80ff8013b81"
      },
      "execution_count": null,
      "outputs": [
        {
          "output_type": "execute_result",
          "data": {
            "text/plain": [
              "float"
            ]
          },
          "metadata": {},
          "execution_count": 23
        }
      ]
    },
    {
      "cell_type": "code",
      "source": [
        "s, t, u = \"0\", \"1\", 'one'\n",
        "type(s)"
      ],
      "metadata": {
        "colab": {
          "base_uri": "https://localhost:8080/"
        },
        "id": "ZQ711S6zwrNL",
        "outputId": "c6e9e6e2-98ce-4dbc-e158-4b200a8c5a70"
      },
      "execution_count": null,
      "outputs": [
        {
          "output_type": "execute_result",
          "data": {
            "text/plain": [
              "str"
            ]
          },
          "metadata": {},
          "execution_count": 22
        }
      ]
    },
    {
      "cell_type": "code",
      "source": [
        "s_int = int(s)\n",
        "s_int"
      ],
      "metadata": {
        "colab": {
          "base_uri": "https://localhost:8080/"
        },
        "id": "6YJNLtGaxQFP",
        "outputId": "eae42a72-7ef1-431d-8e53-0067bdc2dada"
      },
      "execution_count": null,
      "outputs": [
        {
          "output_type": "execute_result",
          "data": {
            "text/plain": [
              "0"
            ]
          },
          "metadata": {},
          "execution_count": 21
        }
      ]
    },
    {
      "cell_type": "markdown",
      "source": [
        "## Operations"
      ],
      "metadata": {
        "id": "OdEau0nYyApB"
      }
    },
    {
      "cell_type": "markdown",
      "source": [
        "###### Operators are Python's particular characters for solving math or logic computation. The operand is the value that the operator performs on—for instance, 2+10=12. Here the + sign is the operator that carries out the given equation. Additionally, 2 and 10 are known as the operands, and 12 is the operation's output.\n"
      ],
      "metadata": {
        "id": "kbArVmbOBF1i"
      }
    },
    {
      "cell_type": "markdown",
      "source": [
        "### Arithmetic"
      ],
      "metadata": {
        "id": "oBNuygbJyHY6"
      }
    },
    {
      "cell_type": "markdown",
      "source": [
        "###### In Python, the arithmetic operators execute mathematical operations, including addition, subtraction, multiplication, and division."
      ],
      "metadata": {
        "id": "95YQX8g6iUtQ"
      }
    },
    {
      "cell_type": "markdown",
      "source": [
        "###### The addition operator in Python is +. It's used to combine two numbers.\n",
        "######\tThe subtraction operator in Python is -. It takes the second number and subtracts it from the first.\n",
        "######\tThe multiplication operator in Python is *. It's used to calculate the product of two numbers.\n",
        "######\tThe division operator in Python is /. When the first operand is divided by the second, it is utilized to get the quotient.\n",
        "######\tThe exponentiation operator in Python is **. It elevates the first operand to the second operand's power.\n",
        "######\tThe modulus operator in Python is %. When the first operand is divided by the second, it gets the remaining.\n"
      ],
      "metadata": {
        "id": "9qU34HyNBiYX"
      }
    },
    {
      "cell_type": "code",
      "source": [
        "a,b,c,d = 2.0, -0.5, 0, -32"
      ],
      "metadata": {
        "id": "gAb9cfcPyPdq"
      },
      "execution_count": null,
      "outputs": []
    },
    {
      "cell_type": "code",
      "source": [
        "### Addition\n",
        "S = a+b\n",
        "S"
      ],
      "metadata": {
        "colab": {
          "base_uri": "https://localhost:8080/"
        },
        "id": "OCilWW12ye5E",
        "outputId": "b44ed68a-8c64-4d1f-af59-a5e9698d7d3f"
      },
      "execution_count": null,
      "outputs": [
        {
          "output_type": "execute_result",
          "data": {
            "text/plain": [
              "1.5"
            ]
          },
          "metadata": {},
          "execution_count": 28
        }
      ]
    },
    {
      "cell_type": "code",
      "source": [
        "### Subtraction\n",
        "D = b-d\n",
        "D"
      ],
      "metadata": {
        "colab": {
          "base_uri": "https://localhost:8080/"
        },
        "id": "fnS6fMZCyrZS",
        "outputId": "9e2b4e44-46b6-44b6-fb19-975d98e049c6"
      },
      "execution_count": null,
      "outputs": [
        {
          "output_type": "execute_result",
          "data": {
            "text/plain": [
              "31.5"
            ]
          },
          "metadata": {},
          "execution_count": 29
        }
      ]
    },
    {
      "cell_type": "code",
      "source": [
        "### Multiplication\n",
        "P = a*d\n",
        "P"
      ],
      "metadata": {
        "colab": {
          "base_uri": "https://localhost:8080/"
        },
        "id": "f6KCAAI_yyij",
        "outputId": "143c5d52-5471-43e3-f33e-c113b2b1f876"
      },
      "execution_count": null,
      "outputs": [
        {
          "output_type": "execute_result",
          "data": {
            "text/plain": [
              "-64.0"
            ]
          },
          "metadata": {},
          "execution_count": 30
        }
      ]
    },
    {
      "cell_type": "code",
      "source": [
        "### Divison\n",
        "Q = c/a\n",
        "Q"
      ],
      "metadata": {
        "colab": {
          "base_uri": "https://localhost:8080/"
        },
        "id": "ChjhteXyzcww",
        "outputId": "672ddc04-dab4-45e6-d63d-9ebc97b6b7b0"
      },
      "execution_count": null,
      "outputs": [
        {
          "output_type": "execute_result",
          "data": {
            "text/plain": [
              "0.0"
            ]
          },
          "metadata": {},
          "execution_count": 35
        }
      ]
    },
    {
      "cell_type": "code",
      "source": [
        "### Floor Division\n",
        "Fq = a//b\n",
        "Fq"
      ],
      "metadata": {
        "colab": {
          "base_uri": "https://localhost:8080/"
        },
        "id": "JZv6MJqwzoDd",
        "outputId": "7a7c7315-4a25-4725-eef7-488c9ae49778"
      },
      "execution_count": null,
      "outputs": [
        {
          "output_type": "execute_result",
          "data": {
            "text/plain": [
              "-4.0"
            ]
          },
          "metadata": {},
          "execution_count": 37
        }
      ]
    },
    {
      "cell_type": "code",
      "source": [
        "### Exponentiation\n",
        "E = a**b\n",
        "E"
      ],
      "metadata": {
        "colab": {
          "base_uri": "https://localhost:8080/"
        },
        "id": "byAb-uXMz6-l",
        "outputId": "7be5ce8f-1e39-4042-f58b-413732e9871b"
      },
      "execution_count": null,
      "outputs": [
        {
          "output_type": "execute_result",
          "data": {
            "text/plain": [
              "0.7071067811865476"
            ]
          },
          "metadata": {},
          "execution_count": 39
        }
      ]
    },
    {
      "cell_type": "code",
      "source": [
        "### Modulo\n",
        "mod = d%a\n",
        "mod"
      ],
      "metadata": {
        "colab": {
          "base_uri": "https://localhost:8080/"
        },
        "id": "PtmPVcJ90p5V",
        "outputId": "2a8ce376-41c3-4e15-a403-e179da6777c1"
      },
      "execution_count": null,
      "outputs": [
        {
          "output_type": "execute_result",
          "data": {
            "text/plain": [
              "0.0"
            ]
          },
          "metadata": {},
          "execution_count": 40
        }
      ]
    },
    {
      "cell_type": "markdown",
      "source": [
        "### Assignment Operations"
      ],
      "metadata": {
        "id": "2-w5y9Pp1A4B"
      }
    },
    {
      "cell_type": "markdown",
      "source": [
        "###### Assignment Operators functions to assign values to variables. The following are some examples of assignment operators that this activity utilized:\n"
      ],
      "metadata": {
        "id": "HUwR-QGIjxdH"
      }
    },
    {
      "cell_type": "markdown",
      "source": [
        "###### 1. =, this functions to assign the value of ride of expression to the operand on the left side\n",
        "###### 2. +=, this will add the operand on the right side alongside the operand on the left side operand\n",
        "###### 3. -=, this assignment operator subtracts the right operand from the left operand then assign it to the left operand\n",
        "###### 4. *=, it multiplies right operand with left operand then assign to left operand\n",
        "###### 5. **=, this will calculate the exponent value using operands and assign value to left operand"
      ],
      "metadata": {
        "id": "uX4_UdtXCntE"
      }
    },
    {
      "cell_type": "code",
      "source": [
        "G, H, J, K = 0, 100, 2, 2"
      ],
      "metadata": {
        "id": "QVFJEw0L1Ett"
      },
      "execution_count": null,
      "outputs": []
    },
    {
      "cell_type": "code",
      "source": [
        "G += a\n",
        "a"
      ],
      "metadata": {
        "colab": {
          "base_uri": "https://localhost:8080/"
        },
        "id": "G4rMNSFa1sj5",
        "outputId": "6bf6f86e-480a-401f-976d-cae9b79e3d4f"
      },
      "execution_count": null,
      "outputs": [
        {
          "output_type": "execute_result",
          "data": {
            "text/plain": [
              "2.0"
            ]
          },
          "metadata": {},
          "execution_count": 42
        }
      ]
    },
    {
      "cell_type": "code",
      "source": [
        "H -= d\n",
        "H"
      ],
      "metadata": {
        "colab": {
          "base_uri": "https://localhost:8080/"
        },
        "id": "gF-TrNv72rnl",
        "outputId": "ad5d8579-9abd-4f49-9ca7-443399894463"
      },
      "execution_count": null,
      "outputs": [
        {
          "output_type": "execute_result",
          "data": {
            "text/plain": [
              "228"
            ]
          },
          "metadata": {},
          "execution_count": 48
        }
      ]
    },
    {
      "cell_type": "code",
      "source": [
        "J *= 2\n",
        "J"
      ],
      "metadata": {
        "colab": {
          "base_uri": "https://localhost:8080/"
        },
        "id": "FgH-GE491380",
        "outputId": "0bde117b-c486-41a2-9c58-18fa71b6d2a6"
      },
      "execution_count": null,
      "outputs": [
        {
          "output_type": "execute_result",
          "data": {
            "text/plain": [
              "4"
            ]
          },
          "metadata": {},
          "execution_count": 44
        }
      ]
    },
    {
      "cell_type": "code",
      "source": [
        "K **= 2\n",
        "K"
      ],
      "metadata": {
        "colab": {
          "base_uri": "https://localhost:8080/"
        },
        "id": "NvDygy4G2SiD",
        "outputId": "f0b8bdbb-87b1-4655-d960-a122b1c4bb5c"
      },
      "execution_count": null,
      "outputs": [
        {
          "output_type": "execute_result",
          "data": {
            "text/plain": [
              "4"
            ]
          },
          "metadata": {},
          "execution_count": 45
        }
      ]
    },
    {
      "cell_type": "markdown",
      "source": [
        "### Comparators"
      ],
      "metadata": {
        "id": "sJcUaEQ13Zzm"
      }
    },
    {
      "cell_type": "markdown",
      "source": [
        "###### Comparators are used to compare two values. It performs comparisons and generates boolean values. Although it is often used with numerical values, other data types may also be utilized."
      ],
      "metadata": {
        "id": "F9sv7dwDlNrb"
      }
    },
    {
      "cell_type": "markdown",
      "source": [
        "###### == symbol represents the equal to operator. It compares the values on the left and right sides. It returns True if the left-side value equals the right-side value. Otherwise, False is returned.\n",
        "###### != symbol represents the not equal to operator. It compares the values on the left and right sides. It returns True if the left-side value is not equal to the right-side value. Otherwise, False is returned.\n",
        "###### == symbol represents the equal to operator. It compares the values on the left and right sides.It returns True if the left-side value equals the right-side value. Otherwise, False is returned.\n",
        "###### != symbol represents the not equal to operator. It compares the values on the left and right sides. It returns True if the left-side value is not equal to the right-side value. Otherwise, False is returned.\n",
        "###### < symbol represents the less-than operator. It compares the values on the left and right sides. It returns True if the left-side value is less. Otherwise, False is returned.\n",
        "###### <= symbol represents the operator less than or equal to. It compares the values on the left and right sides. It returns True if the left-side value is less than or equal to the right-side value. Otherwise, False is returned."
      ],
      "metadata": {
        "id": "guHWtUy_C6Ry"
      }
    },
    {
      "cell_type": "code",
      "source": [
        "res_1, res_2, res_3 = 1, 2.0, \"1\"\n",
        "true_val = 1.0"
      ],
      "metadata": {
        "id": "_DX8McaI3enz"
      },
      "execution_count": null,
      "outputs": []
    },
    {
      "cell_type": "code",
      "source": [
        "## Equality\n",
        "res_1 == true_val"
      ],
      "metadata": {
        "colab": {
          "base_uri": "https://localhost:8080/"
        },
        "id": "lR0rh1N03sRZ",
        "outputId": "f19b7235-512e-4e51-e3bb-73f6347363ac"
      },
      "execution_count": null,
      "outputs": [
        {
          "output_type": "execute_result",
          "data": {
            "text/plain": [
              "True"
            ]
          },
          "metadata": {},
          "execution_count": 52
        }
      ]
    },
    {
      "cell_type": "code",
      "source": [
        "## Non-equality\n",
        "res_3 != true_val"
      ],
      "metadata": {
        "colab": {
          "base_uri": "https://localhost:8080/"
        },
        "id": "7R3LDDNz34HI",
        "outputId": "b05135b1-b015-4489-d533-52dbe2c7c9f4"
      },
      "execution_count": null,
      "outputs": [
        {
          "output_type": "execute_result",
          "data": {
            "text/plain": [
              "True"
            ]
          },
          "metadata": {},
          "execution_count": 54
        }
      ]
    },
    {
      "cell_type": "code",
      "source": [
        "## Inequality\n",
        "t1 = res_1 > res_2\n",
        "t2 = res_1 < res_2/2\n",
        "t3 = res_1 >= res_2/2\n",
        "t4 = res_1 <= res_2\n",
        "t3\n"
      ],
      "metadata": {
        "colab": {
          "base_uri": "https://localhost:8080/"
        },
        "id": "04u8XuDH4C0P",
        "outputId": "582148c8-a38a-4e83-879f-1894e0e05b5f"
      },
      "execution_count": null,
      "outputs": [
        {
          "output_type": "execute_result",
          "data": {
            "text/plain": [
              "True"
            ]
          },
          "metadata": {},
          "execution_count": 56
        }
      ]
    },
    {
      "cell_type": "markdown",
      "source": [
        "### Logical"
      ],
      "metadata": {
        "id": "ogV1uC_W5LQs"
      }
    },
    {
      "cell_type": "markdown",
      "source": [
        "###### A logical operator is a character or term that joins various expressions. The value of the originalstatements entirely influences the validity of the compound expression generated and the operator's significance. This activity used logical operators such as AND, OR, and NOT"
      ],
      "metadata": {
        "id": "iqtZP8GXDdR6"
      }
    },
    {
      "cell_type": "code",
      "source": [
        "res_1 == true_val"
      ],
      "metadata": {
        "colab": {
          "base_uri": "https://localhost:8080/"
        },
        "id": "lpEsFcvd5Qs4",
        "outputId": "8a711fa3-2fe1-471f-c72d-1b405630ae0f"
      },
      "execution_count": null,
      "outputs": [
        {
          "output_type": "execute_result",
          "data": {
            "text/plain": [
              "True"
            ]
          },
          "metadata": {},
          "execution_count": 57
        }
      ]
    },
    {
      "cell_type": "code",
      "source": [
        "res_1 is true_val"
      ],
      "metadata": {
        "colab": {
          "base_uri": "https://localhost:8080/"
        },
        "id": "EDNdnQDa5crP",
        "outputId": "467972db-c896-4683-a48d-4a7ab560a355"
      },
      "execution_count": null,
      "outputs": [
        {
          "output_type": "execute_result",
          "data": {
            "text/plain": [
              "False"
            ]
          },
          "metadata": {},
          "execution_count": 58
        }
      ]
    },
    {
      "cell_type": "code",
      "source": [
        "res_1 is not true_val"
      ],
      "metadata": {
        "colab": {
          "base_uri": "https://localhost:8080/"
        },
        "id": "7CVYR6MX5hXP",
        "outputId": "8aafd9d2-8068-48ba-a4be-44fd2ca7b462"
      },
      "execution_count": null,
      "outputs": [
        {
          "output_type": "execute_result",
          "data": {
            "text/plain": [
              "True"
            ]
          },
          "metadata": {},
          "execution_count": 59
        }
      ]
    },
    {
      "cell_type": "code",
      "source": [
        "p,q = True, False\n",
        "conj = p and q\n",
        "conj"
      ],
      "metadata": {
        "colab": {
          "base_uri": "https://localhost:8080/"
        },
        "id": "1Gcfoi-l5mMy",
        "outputId": "bd935d4c-cd30-4e52-b67b-6ede5abcba93"
      },
      "execution_count": null,
      "outputs": [
        {
          "output_type": "execute_result",
          "data": {
            "text/plain": [
              "False"
            ]
          },
          "metadata": {},
          "execution_count": 60
        }
      ]
    },
    {
      "cell_type": "code",
      "source": [
        "p,q = True, False\n",
        "disj = p or q\n",
        "disj"
      ],
      "metadata": {
        "colab": {
          "base_uri": "https://localhost:8080/"
        },
        "id": "-emtrjeh7ICh",
        "outputId": "63ddb0da-d95f-4e12-f650-b5766f0f460d"
      },
      "execution_count": null,
      "outputs": [
        {
          "output_type": "execute_result",
          "data": {
            "text/plain": [
              "True"
            ]
          },
          "metadata": {},
          "execution_count": 61
        }
      ]
    },
    {
      "cell_type": "code",
      "source": [
        "p,q = True, False\n",
        "e = not(p and q)\n",
        "e"
      ],
      "metadata": {
        "colab": {
          "base_uri": "https://localhost:8080/"
        },
        "id": "avJNToSa7Y6U",
        "outputId": "561b5ed8-2ae2-4d91-ff7f-4e6c3fb72c80"
      },
      "execution_count": null,
      "outputs": [
        {
          "output_type": "execute_result",
          "data": {
            "text/plain": [
              "True"
            ]
          },
          "metadata": {},
          "execution_count": 62
        }
      ]
    },
    {
      "cell_type": "code",
      "source": [
        "p,q = True, False\n",
        "xor = (not p and q) or (p and not q)\n",
        "xor"
      ],
      "metadata": {
        "colab": {
          "base_uri": "https://localhost:8080/"
        },
        "id": "mo1XSlwC7qLM",
        "outputId": "84115a7c-bdaa-4c80-fbda-5f5d0b06312b"
      },
      "execution_count": null,
      "outputs": [
        {
          "output_type": "execute_result",
          "data": {
            "text/plain": [
              "True"
            ]
          },
          "metadata": {},
          "execution_count": 63
        }
      ]
    },
    {
      "cell_type": "markdown",
      "source": [
        "### I/O"
      ],
      "metadata": {
        "id": "u30LBoHv8C-1"
      }
    },
    {
      "cell_type": "markdown",
      "source": [
        "###### Input and output are concepts that refer to the way a computer software communicates with its user. The user provides input to the program, while the software provides output to the user."
      ],
      "metadata": {
        "id": "nPSkCQXdejhV"
      }
    },
    {
      "cell_type": "markdown",
      "source": [
        "###### The print() method sends a message to the screen or another standard output device.\n",
        "###### A counter tool “cnt” is included to help with quick and easy tallying.\n",
        "###### In Python, single quotes, double quotes, and even triple quotes may generate strings. Unicode characters are represented as strings, which are arrays of bytes.\n",
        "###### You need to give the names of the variables within a set of curly brackets when using f-Strings to show variables. All variable names will be replaced with their relevant values during runtime.\n"
      ],
      "metadata": {
        "id": "m3vwxFTwDuzv"
      }
    },
    {
      "cell_type": "code",
      "source": [
        "print(\"Hello World\")"
      ],
      "metadata": {
        "colab": {
          "base_uri": "https://localhost:8080/"
        },
        "id": "lQjq_WFV8FlV",
        "outputId": "0eb3e836-67df-4656-d008-99079e8a04a5"
      },
      "execution_count": null,
      "outputs": [
        {
          "output_type": "stream",
          "name": "stdout",
          "text": [
            "Hello World\n"
          ]
        }
      ]
    },
    {
      "cell_type": "code",
      "source": [
        "cnt = 1"
      ],
      "metadata": {
        "id": "2SmKetBm8X8-"
      },
      "execution_count": null,
      "outputs": []
    },
    {
      "cell_type": "code",
      "source": [
        "string = \"Hello World\"\n",
        "print(string, \", Current run count is: \", cnt)\n",
        "cnt += 1"
      ],
      "metadata": {
        "colab": {
          "base_uri": "https://localhost:8080/"
        },
        "id": "RwbkCUyi8afK",
        "outputId": "7cbd4ef1-c2fe-4f8b-9c8f-128dff3634dd"
      },
      "execution_count": null,
      "outputs": [
        {
          "output_type": "stream",
          "name": "stdout",
          "text": [
            "Hello World , Current run count is:  1\n"
          ]
        }
      ]
    },
    {
      "cell_type": "code",
      "source": [
        "print(f\"{string}, Current count is: {cnt}\")"
      ],
      "metadata": {
        "colab": {
          "base_uri": "https://localhost:8080/"
        },
        "id": "k3PYwbvN8t00",
        "outputId": "d748208e-b49d-427e-ea07-3d36c5607561"
      },
      "execution_count": null,
      "outputs": [
        {
          "output_type": "stream",
          "name": "stdout",
          "text": [
            "Hello World, Current count is: 2\n"
          ]
        }
      ]
    },
    {
      "cell_type": "code",
      "source": [
        "sem_grade = 82.243564657461234\n",
        "name = \"qtpie\"\n",
        "print(\"Hello {}, your semestral grade is: {}\". format(name, sem_grade))"
      ],
      "metadata": {
        "colab": {
          "base_uri": "https://localhost:8080/"
        },
        "id": "9XUzVsem9mwe",
        "outputId": "2a8e60c9-15ff-4803-ba1e-a23675f29667"
      },
      "execution_count": null,
      "outputs": [
        {
          "output_type": "stream",
          "name": "stdout",
          "text": [
            "Hello qtpie, your semestral grade is: 82.24356465746123\n"
          ]
        }
      ]
    },
    {
      "cell_type": "code",
      "source": [
        "sem_grade = 82.243564657461234\n",
        "name = \"\"\n",
        "print(\"Hello {}, your semestral grade is: {}\". format(name, sem_grade))"
      ],
      "metadata": {
        "colab": {
          "base_uri": "https://localhost:8080/"
        },
        "id": "Gm0ch5do-oEc",
        "outputId": "5eda83da-d629-4779-cfbf-2e7aefa0d068"
      },
      "execution_count": null,
      "outputs": [
        {
          "output_type": "stream",
          "name": "stdout",
          "text": [
            "Hello , your semestral grade is: 82.24356465746123\n"
          ]
        }
      ]
    },
    {
      "cell_type": "code",
      "source": [
        "w_pg, w_mg, w_fg = 0.3, 0.3, 0.4\n",
        "print(\"The weights of your semestral grade are: \\\n",
        "\\n\\t{: .2%} for Prelims\\\n",
        "\\n\\t{: .2%} for Midterms, and\\\n",
        "\\n\\t{: .2%} for Finals.\".format(w_pg, w_mg, w_fg))"
      ],
      "metadata": {
        "colab": {
          "base_uri": "https://localhost:8080/"
        },
        "id": "9zdQrzp1ty4g",
        "outputId": "c377f828-e12b-48d1-f9d0-9d88f12fe77f"
      },
      "execution_count": null,
      "outputs": [
        {
          "output_type": "stream",
          "name": "stdout",
          "text": [
            "The weights of your semestral grade are: \n",
            "\t 30.00% for Prelims\n",
            "\t 30.00% for Midterms, and\n",
            "\t 40.00% for Finals.\n"
          ]
        }
      ]
    },
    {
      "cell_type": "code",
      "source": [
        "x = input(\"enter a number: \")\n",
        "x"
      ],
      "metadata": {
        "colab": {
          "base_uri": "https://localhost:8080/",
          "height": 53
        },
        "id": "bg--pwxnuibp",
        "outputId": "27a5c30c-5d34-402c-913d-34423c4be68d"
      },
      "execution_count": null,
      "outputs": [
        {
          "name": "stdout",
          "output_type": "stream",
          "text": [
            "enter a number: 27\n"
          ]
        },
        {
          "output_type": "execute_result",
          "data": {
            "application/vnd.google.colaboratory.intrinsic+json": {
              "type": "string"
            },
            "text/plain": [
              "'27'"
            ]
          },
          "metadata": {},
          "execution_count": 2
        }
      ]
    },
    {
      "cell_type": "code",
      "source": [
        "name= input(\"Kimi ni nawa: \")\n",
        "pg = input(\"Enter prelim grade: \")\n",
        "mg = input(\"Entermidterm grade \")\n",
        "fg = input(\"Entermidterm grade \")\n",
        "sem_grade = None\n",
        "print(\"Hello {}, your semestral grade is: {}\" .format(name, sem_grade))"
      ],
      "metadata": {
        "colab": {
          "base_uri": "https://localhost:8080/"
        },
        "id": "x9oOs1usuqvU",
        "outputId": "f793f146-bcb0-411e-85c0-0f3a7221fd74"
      },
      "execution_count": null,
      "outputs": [
        {
          "output_type": "stream",
          "name": "stdout",
          "text": [
            "Kimi ni nawa: krissy\n",
            "Enter prelim grade: 89\n",
            "Entermidterm grade 90\n",
            "Entermidterm grade 95\n",
            "Hello krissy, your semestral grade is: None\n"
          ]
        }
      ]
    },
    {
      "cell_type": "markdown",
      "source": [
        "### Looping Statement"
      ],
      "metadata": {
        "id": "xOQ7_clnwHUv"
      }
    },
    {
      "cell_type": "markdown",
      "source": [
        "###### It comprises a series of operations that are repeated numerous times until the desired result is reached. Python includes two looping statements: for and while, which are employed to identify them in this exercise.\n"
      ],
      "metadata": {
        "id": "NTYRO4bKECeQ"
      }
    },
    {
      "cell_type": "markdown",
      "source": [
        "### While"
      ],
      "metadata": {
        "id": "PIvyRe8wwOFR"
      }
    },
    {
      "cell_type": "markdown",
      "source": [
        "###### Python While Loop is used to repeatedly execute a block of statements until a given condition is satisfied. And when the situation becomes false, the line immediately after the loop in the program is executed."
      ],
      "metadata": {
        "id": "bTmbYUXupvuI"
      }
    },
    {
      "cell_type": "code",
      "source": [
        "## while loops\n",
        "i, j = 0, 10\n",
        "while(i<=j):\n",
        "  print(f\"{i}\\t|\\t{j}\")\n",
        "  i+=1"
      ],
      "metadata": {
        "colab": {
          "base_uri": "https://localhost:8080/"
        },
        "id": "2cP9z6_hwRRw",
        "outputId": "8da60426-3f68-4972-a7df-67b005d4b36b"
      },
      "execution_count": null,
      "outputs": [
        {
          "output_type": "stream",
          "name": "stdout",
          "text": [
            "0\t|\t10\n",
            "1\t|\t10\n",
            "2\t|\t10\n",
            "3\t|\t10\n",
            "4\t|\t10\n",
            "5\t|\t10\n",
            "6\t|\t10\n",
            "7\t|\t10\n",
            "8\t|\t10\n",
            "9\t|\t10\n",
            "10\t|\t10\n"
          ]
        }
      ]
    },
    {
      "cell_type": "markdown",
      "source": [
        "### For"
      ],
      "metadata": {
        "id": "ru_nZCfExaio"
      }
    },
    {
      "cell_type": "markdown",
      "source": [
        "###### A \"For\" Loop is used to loop a code block a predetermined amount of times. In the \"For\" loop, the number of iterations to be performed is already known. It is employed to achieve the desired outcome. On the contrary, in a while loop, the command runs until a particular condition is satisfied and the statement is proven to be wrong.\n"
      ],
      "metadata": {
        "id": "AfwtCevKENKc"
      }
    },
    {
      "cell_type": "code",
      "source": [
        "# for(int i=0; i<10; i++){\n",
        "# printf(i)\n",
        "# }\n",
        "\n",
        "i=0\n",
        "for i in range(10):\n",
        "  print(i)"
      ],
      "metadata": {
        "colab": {
          "base_uri": "https://localhost:8080/"
        },
        "id": "0tTI6E99xdDA",
        "outputId": "7a28d278-de3a-42d5-b78b-1e5a3addd9dd"
      },
      "execution_count": null,
      "outputs": [
        {
          "output_type": "stream",
          "name": "stdout",
          "text": [
            "0\n",
            "1\n",
            "2\n",
            "3\n",
            "4\n",
            "5\n",
            "6\n",
            "7\n",
            "8\n",
            "9\n"
          ]
        }
      ]
    },
    {
      "cell_type": "code",
      "source": [
        "playlist = [\"Crazier\", \"Happier\", \"Bahay-Kubo\"]\n",
        "print('Now Playing:\\n')\n",
        "for song in playlist:\n",
        "      print(song)"
      ],
      "metadata": {
        "colab": {
          "base_uri": "https://localhost:8080/"
        },
        "id": "VBYv2CPDyBo7",
        "outputId": "ca5572e7-3d20-4145-f4b9-49db6815f3fc"
      },
      "execution_count": null,
      "outputs": [
        {
          "output_type": "stream",
          "name": "stdout",
          "text": [
            "Now Playing:\n",
            "\n",
            "Crazier\n",
            "Happier\n",
            "Bahay-Kubo\n"
          ]
        }
      ]
    },
    {
      "cell_type": "markdown",
      "source": [
        "### Flow Control"
      ],
      "metadata": {
        "id": "MPGGRZSmy1D4"
      }
    },
    {
      "cell_type": "markdown",
      "source": [
        "###### Flow control statements may be used to determine which Python instructions should be executed when such criteria are met."
      ],
      "metadata": {
        "id": "ofeAfXhWteW8"
      }
    },
    {
      "cell_type": "markdown",
      "source": [
        "###### The if-elif-else statement is used to conditionally execute a statement or a block of statements. Conditions can be true or false, execute one thing when the condition is true, something else when the condition is false."
      ],
      "metadata": {
        "id": "7w7Zw6ZmiqMy"
      }
    },
    {
      "cell_type": "markdown",
      "source": [
        "### Condition Statements"
      ],
      "metadata": {
        "id": "T0bCdbxFEr9g"
      }
    },
    {
      "cell_type": "markdown",
      "source": [
        "###### In a Python programming language, the if statement governs the program flow. The \"elif\" and \"else\" functions are seen in most if statements. This indicates that while there may be various \"elif\", there is only one \"else\". The if statement must end with the \"else\"; thus, no other \"elif\" branches can be added.\n"
      ],
      "metadata": {
        "id": "RzbAdN7eE1du"
      }
    },
    {
      "cell_type": "code",
      "source": [
        "numeral1, numeral2 = 13, 14\n",
        "if(numeral1 == numeral2) :\n",
        "  print(\"Yey\")\n",
        "elif(numeral1>numeral2):\n",
        "  print(\"Hoho\")\n",
        "else:\n",
        "  print(\"Awww\")"
      ],
      "metadata": {
        "colab": {
          "base_uri": "https://localhost:8080/"
        },
        "id": "wd7GD0n0yzsK",
        "outputId": "6e5da050-d68a-411e-b335-df17b65df084"
      },
      "execution_count": null,
      "outputs": [
        {
          "output_type": "stream",
          "name": "stdout",
          "text": [
            "Awww\n"
          ]
        }
      ]
    },
    {
      "cell_type": "markdown",
      "source": [
        "### Functions"
      ],
      "metadata": {
        "id": "FVKdciK41tc0"
      }
    },
    {
      "cell_type": "code",
      "source": [
        "# void DeleteUser(int usedid){\n",
        "# delete(userid);\n",
        "# }\n",
        "\n",
        "def delete_user (userid):\n",
        "  print(\"Successfully deleted user: {}\". format(userid))\n",
        "\n",
        "def delete_all_users ():\n",
        "  print(\"All of us are dead\")"
      ],
      "metadata": {
        "id": "fBys9uQg1gq7"
      },
      "execution_count": null,
      "outputs": []
    },
    {
      "cell_type": "code",
      "source": [
        "userid = \"Krissy\"\n",
        "delete_user(\"Krissy\")\n",
        "delete_all_users()"
      ],
      "metadata": {
        "colab": {
          "base_uri": "https://localhost:8080/"
        },
        "id": "QDe1P5Ky2ow1",
        "outputId": "5bf91622-91d6-4607-b48d-be310b920758"
      },
      "execution_count": null,
      "outputs": [
        {
          "output_type": "stream",
          "name": "stdout",
          "text": [
            "Successfully deleted user: Krissy\n",
            "All of us are dead\n"
          ]
        }
      ]
    },
    {
      "cell_type": "code",
      "source": [
        "def add(addend1,addend2):\n",
        "  return addend1 + addend2\n",
        "\n",
        "def power_of_base2(exponent):\n",
        "  return 2**exponent"
      ],
      "metadata": {
        "id": "QkwuXG8v2_ET"
      },
      "execution_count": null,
      "outputs": []
    },
    {
      "cell_type": "code",
      "source": [
        "addend1, addend2 = 24, 25\n",
        "add(addend1, addend2)\n",
        "\n",
        "exponent = 8\n",
        "power_of_base2(exponent)"
      ],
      "metadata": {
        "colab": {
          "base_uri": "https://localhost:8080/"
        },
        "id": "FKbeL9Gj3plM",
        "outputId": "ee7050ea-4d3d-489b-c5a3-fceceb7bc5ef"
      },
      "execution_count": null,
      "outputs": [
        {
          "output_type": "execute_result",
          "data": {
            "text/plain": [
              "256"
            ]
          },
          "metadata": {},
          "execution_count": 40
        }
      ]
    },
    {
      "cell_type": "markdown",
      "source": [
        "### Assignment"
      ],
      "metadata": {
        "id": "lJyOrmlpa64U"
      }
    },
    {
      "cell_type": "code",
      "source": [
        "w_pg, w_mg, w_fg = 0.30, 0.30, 0.40\n",
        "name = input(\"Enter your name: \")\n",
        "course = input(\"Enter your course: \")\n",
        "yearlevel = input(\"Enter your year level: \")\n",
        "pg = float(input(\"Enter Prelim Grade: \"))\n",
        "mg = float(input(\"Enter Midterm Grade: \"))\n",
        "fg = float(input(\"Enter Finals Grade: \"))\n",
        "sem_grade = (pg*w_pg) + (mg*w_mg) + (fg*w_fg)\n",
        "print(\"Your Sem Grade is: {: .2f} \".format (sem_grade))\n",
        "if(sem_grade > 70): print(\"\\U0001F600\")\n",
        "elif(sem_grade == 70): print(\"\\U0001F606\")\n",
        "else: print(\"\\U0001F62D\")"
      ],
      "metadata": {
        "colab": {
          "base_uri": "https://localhost:8080/",
          "height": 0
        },
        "id": "VCOai1s3a_aR",
        "outputId": "605627cb-d507-4edb-e930-8e60e2e59669"
      },
      "execution_count": 1,
      "outputs": [
        {
          "output_type": "stream",
          "name": "stdout",
          "text": [
            "Enter your name: Krissy Dolor\n",
            "Enter your course: Chemical Engineer\n",
            "Enter your year level: 2nd Year\n",
            "Enter Prelim Grade: 90\n",
            "Enter Midterm Grade: 93\n",
            "Enter Finals Grade: 96\n",
            "Your Sem Grade is:  93.30 \n",
            "😀\n"
          ]
        }
      ]
    }
  ]
}