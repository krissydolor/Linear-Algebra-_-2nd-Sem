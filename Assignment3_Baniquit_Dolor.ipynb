{
  "nbformat": 4,
  "nbformat_minor": 0,
  "metadata": {
    "colab": {
      "name": "Assignment3_Surname1_Surname2.ipynb",
      "provenance": [],
      "collapsed_sections": [],
      "authorship_tag": "ABX9TyPQF2yBlzqegtNtQvy2enWP",
      "include_colab_link": true
    },
    "kernelspec": {
      "name": "python3",
      "display_name": "Python 3"
    },
    "language_info": {
      "name": "python"
    }
  },
  "cells": [
    {
      "cell_type": "markdown",
      "metadata": {
        "id": "view-in-github",
        "colab_type": "text"
      },
      "source": [
        "<a href=\"https://colab.research.google.com/github/krissydolor/Linear-Algebra-_-2nd-Sem/blob/main/Assignment3_Baniquit_Dolor.ipynb\" target=\"_parent\"><img src=\"https://colab.research.google.com/assets/colab-badge.svg\" alt=\"Open In Colab\"/></a>"
      ]
    },
    {
      "cell_type": "markdown",
      "source": [
        "# Linear Algebra for ChE\n",
        "## Laboratory 4: Matrices"
      ],
      "metadata": {
        "id": "1rT9g9sfxlBi"
      }
    },
    {
      "cell_type": "markdown",
      "source": [
        "### Objectives\n",
        "\n",
        "#### At the end of this activity you will be able to:\n",
        "\n",
        "#### 1. Be familiar with matrices and their relation to linear equations.\n",
        "#### 2. Perform basic matrix operations\n",
        "#### 3. Program and translate matrix equations and operatrions using Python"
      ],
      "metadata": {
        "id": "EoM7cwY6x80D"
      }
    },
    {
      "cell_type": "markdown",
      "source": [
        "# Discussion"
      ],
      "metadata": {
        "id": "gc1juy7GyFU_"
      }
    },
    {
      "cell_type": "code",
      "source": [
        "import numpy as np\n",
        "import matplotlib.pyplot as pit\n",
        "import scipy.linalg as la\n",
        "%matplotlib inline"
      ],
      "metadata": {
        "id": "mYfeZwG2yO9C"
      },
      "execution_count": null,
      "outputs": []
    },
    {
      "cell_type": "markdown",
      "source": [
        "### Matrices\n",
        "\n",
        "###### The notation and use of matrices is probably one of the fundamentals of modern computing. Matrices are also handy representations of complex equations or multiple inter-related equations from 2-dimensional rquations to even hundreds and thousands of them.\n"
      ],
      "metadata": {
        "id": "_8-Hfe9dy7aO"
      }
    },
    {
      "cell_type": "markdown",
      "source": [
        "\n",
        "###### Let's say for example you have $A$ and $B$ as system of equation"
      ],
      "metadata": {
        "id": "SB8BeZJezrAZ"
      }
    },
    {
      "cell_type": "markdown",
      "source": [
        "$$\n",
        "A = \\left\\{\n",
        "    \\begin{array}\\\n",
        "        x + y \\\\ \n",
        "        4x - 10y\n",
        "    \\end{array}\n",
        "\\right. \\\\\n",
        "B = \\left\\{\n",
        "    \\begin{array}\\\n",
        "        x+y+z \\\\ \n",
        "        3x -2y -z \\\\\n",
        "        -x + 4y +2z\n",
        "    \\end{array}\n",
        "\\right. \\\\\n",
        "C = \\left\\{\n",
        "    \\begin{array}\\\n",
        "        w-2x+3y-4z \\\\ \n",
        "        3w -x -2y -z \\\\\n",
        "        2w -x + 4y +2z\n",
        "    \\end{array}\n",
        "\\right. $$"
      ],
      "metadata": {
        "id": "-bavi5SbzvhH"
      }
    },
    {
      "cell_type": "markdown",
      "source": [
        "###### We could see that $A$ is a system of 2 equations with 2 parameters. While $B$ is a systme of 3 equations with 3 parameters. We can represent them as matrices as:"
      ],
      "metadata": {
        "id": "cus8a5-m03t-"
      }
    },
    {
      "cell_type": "markdown",
      "source": [
        ":$$\n",
        "A=\\begin{bmatrix} 1 & 1 \\\\ 4 & {-10}\\end{bmatrix} \\\\\n",
        "B=\\begin{bmatrix} 1 & 1 & 1 \\\\ 3 & -2 & -1 \\\\ -1 & 4 & 2\\end{bmatrix} \\\\\n",
        "C=\\begin{bmatrix} 1 & -2 & 3 & -4 \\\\ 3 & -1 & -2 & 1 \\\\ 2 & -1 & 3 & -2\\end\n",
        "{bmatrix}\n",
        "$$\n"
      ],
      "metadata": {
        "id": "-Vab1_Ld1aEu"
      }
    },
    {
      "cell_type": "markdown",
      "source": [
        "###### So assuming that you already discussed the funddamental representation"
      ],
      "metadata": {
        "id": "7PA2MU2_1iXl"
      }
    },
    {
      "cell_type": "markdown",
      "source": [
        "### Declaring Matrices"
      ],
      "metadata": {
        "id": "tt6X0sNE3MQ9"
      }
    },
    {
      "cell_type": "markdown",
      "source": [
        "The components of a matrix are the entities or values in matrices. Matrices have a category form in which these elements are structured and sorted in rows and columns. Additionally, these categorized elements align to their rows and columns, as with arrays. This can be expressed in the same manner as the expression below. Whereas $A$ is a matrix made up of elements represented by $a_{i,j}$. The number of rows in the matrix is expressed by $i$, meanwhile the number of columns.<br> is denoted by $j$. "
      ],
      "metadata": {
        "id": "OjcqQkE-7w0f"
      }
    },
    {
      "cell_type": "markdown",
      "source": [
        "$$A=\\begin{bmatrix}\n",
        "a_{(0,0)}&a_{(0,1)}&\\dots&a_{(0,j-1)}\\\\\n",
        "a_{(1,0)}&a_{(1,1)}&\\dots&a_{(1,j-1)}\\\\\n",
        "\\vdots&\\vdots&\\ddots&\\vdots&\\\\\n",
        "a_{(i-1,0)}&a_{(i-1,1)}&\\dots&a_{(i-1,j-1)}\n",
        "\\end{bmatrix}\n",
        "$$\n"
      ],
      "metadata": {
        "id": "-7pohZvy3aJB"
      }
    },
    {
      "cell_type": "code",
      "source": [
        "## Since we'll keep on describing matrices. Let's make a function\n",
        "def describe_mat(matrix):\n",
        "  print(f'Matrix:\\n {matrix} \\n\\nShape:\\t{matrix.shape}\\nRank:\\t{matrix.ndim}\\n')"
      ],
      "metadata": {
        "id": "OmZ8DJcK30H-"
      },
      "execution_count": null,
      "outputs": []
    },
    {
      "cell_type": "code",
      "source": [
        "## Declaring a 2x2 matrix\n",
        "A = np.array([\n",
        "    [2, 3],\n",
        "    [5, 4]\n",
        "])\n",
        "describe_mat(A)"
      ],
      "metadata": {
        "colab": {
          "base_uri": "https://localhost:8080/"
        },
        "id": "Czv-_lE44Vn9",
        "outputId": "759e9ddd-bafb-43dc-85b6-2a812af3aca3"
      },
      "execution_count": null,
      "outputs": [
        {
          "output_type": "stream",
          "name": "stdout",
          "text": [
            "Matrix:\n",
            " [[2 3]\n",
            " [5 4]] \n",
            "\n",
            "Shape:\t(2, 2)\n",
            "Rank:\t2\n",
            "\n"
          ]
        }
      ]
    },
    {
      "cell_type": "code",
      "source": [
        "G = np.array([\n",
        "    [1,1,3],\n",
        "    [2,2,4]\n",
        "      \n",
        "])\n",
        "describe_mat(G)"
      ],
      "metadata": {
        "colab": {
          "base_uri": "https://localhost:8080/"
        },
        "id": "b1uEF6M06OIh",
        "outputId": "43317296-c3f9-435c-ac00-46d3a325be3a"
      },
      "execution_count": null,
      "outputs": [
        {
          "output_type": "stream",
          "name": "stdout",
          "text": [
            "Matrix:\n",
            " [[1 1 3]\n",
            " [2 2 4]] \n",
            "\n",
            "Shape:\t(2, 3)\n",
            "Rank:\t2\n",
            "\n"
          ]
        }
      ]
    },
    {
      "cell_type": "code",
      "source": [
        "## Declaring "
      ],
      "metadata": {
        "id": "DD6Qnb6m6WQI"
      },
      "execution_count": null,
      "outputs": []
    },
    {
      "cell_type": "code",
      "source": [
        "H = np.array ([1,2,3,4,5])\n",
        "describe_mat(H)"
      ],
      "metadata": {
        "colab": {
          "base_uri": "https://localhost:8080/"
        },
        "id": "JB3daD3s6j1k",
        "outputId": "d893a2e9-3287-4793-e82a-3d65c9ab16ec"
      },
      "execution_count": null,
      "outputs": [
        {
          "output_type": "stream",
          "name": "stdout",
          "text": [
            "Matrix:\n",
            " [1 2 3 4 5] \n",
            "\n",
            "Shape:\t(5,)\n",
            "Rank:\t1\n",
            "\n"
          ]
        }
      ]
    },
    {
      "cell_type": "markdown",
      "source": [
        "## Categorizing matrices"
      ],
      "metadata": {
        "id": "l2B2tqZ47SMj"
      }
    },
    {
      "cell_type": "markdown",
      "source": [
        "A categorizing matrix classifies all situations in the model by assessing whether the anticipated value corresponds to the actual value. The categorization matrix is a commonly used technique for evaluating statistical models; it is also known as a confusion matrix."
      ],
      "metadata": {
        "id": "fXoT0KGRPRIV"
      }
    },
    {
      "cell_type": "markdown",
      "source": [
        "### Row and Column Matrices"
      ],
      "metadata": {
        "id": "LJEXvsoo8AtT"
      }
    },
    {
      "cell_type": "markdown",
      "source": [
        "The phrases \"row and column matrices\" and \"row and column vectors are commonly interchangeable. Row and Column matrices are prominent in terms of vector and matrix calculations. Moreover, row and column matrices can also depict the rows and columns of broader subspaces. As a result, row matrices would be $i \\times 1$, whereas row matrices would be $1 \\times j$."
      ],
      "metadata": {
        "id": "y4VEpILk8Ha4"
      }
    },
    {
      "cell_type": "code",
      "source": [
        "## Decalring a Row Matrix\n",
        "\n",
        "rowmatrix1D = np.array([\n",
        "    1, 3, 2\n",
        "]) ## this is a 1-D Matrix with a shape of (3, ), it's not really considered as a row matrix.\n",
        "row_mat_2D = np.array([\n",
        "    [1,2,3, -4]\n",
        "]) ## this is a 2-D Matrix with a shape of (1,3)\n",
        "describe_mat(rowmatrix1D)\n",
        "describe_mat(row_mat_2D)"
      ],
      "metadata": {
        "colab": {
          "base_uri": "https://localhost:8080/"
        },
        "id": "H644Qchj7Xnv",
        "outputId": "79efdad6-33d4-4723-d08d-890e1e8a2707"
      },
      "execution_count": null,
      "outputs": [
        {
          "output_type": "stream",
          "name": "stdout",
          "text": [
            "Matrix:\n",
            " [1 3 2] \n",
            "\n",
            "Shape:\t(3,)\n",
            "Rank:\t1\n",
            "\n",
            "Matrix:\n",
            " [[ 1  2  3 -4]] \n",
            "\n",
            "Shape:\t(1, 4)\n",
            "Rank:\t2\n",
            "\n"
          ]
        }
      ]
    },
    {
      "cell_type": "code",
      "source": [
        "## Declaring a Column Matrix\n",
        "\n",
        "col_mat = np.array([\n",
        "    [1],\n",
        "    [2],\n",
        "    [5]\n",
        "]) ## this is a 2-D Matrix with a shape of (3,1)\n",
        "describe_mat(col_mat) "
      ],
      "metadata": {
        "colab": {
          "base_uri": "https://localhost:8080/"
        },
        "id": "Fb4_Nrrz9Xou",
        "outputId": "5f979ed8-07ba-4c48-dbfd-df7caab50617"
      },
      "execution_count": null,
      "outputs": [
        {
          "output_type": "stream",
          "name": "stdout",
          "text": [
            "Matrix:\n",
            " [[1]\n",
            " [2]\n",
            " [5]] \n",
            "\n",
            "Shape:\t(3, 1)\n",
            "Rank:\t2\n",
            "\n"
          ]
        }
      ]
    },
    {
      "cell_type": "markdown",
      "source": [
        "### Square Matrices"
      ],
      "metadata": {
        "id": "RNv9nfKE962h"
      }
    },
    {
      "cell_type": "markdown",
      "source": [
        "###### When the number of both the columns and rows are equal, They are known as Square Matrix, also called as an n x n matrix."
      ],
      "metadata": {
        "id": "oqrteRwcJG0U"
      }
    },
    {
      "cell_type": "code",
      "source": [
        "def describe_mat(matrix):\n",
        "  is_square = True if matrix.shape[0] == matrix.shape[1] else False\n",
        "  print(f'Matrix:\\n{matrix}\\n\\nShape:\\t{matrix.ndim}\\nRank:\\t{matrix.ndim}\\nIs Square: {is_square}\\n')"
      ],
      "metadata": {
        "id": "DYPFo2zA-BbI"
      },
      "execution_count": null,
      "outputs": []
    },
    {
      "cell_type": "code",
      "source": [
        "square_mat = np.array ([\n",
        "      [1,2,5],\n",
        "      [3,3,8],\n",
        "      [6,1,7]\n",
        "])\n",
        "\n",
        "non_square_mat = np.array([\n",
        "      [1,2,5],\n",
        "      [3,3,8]\n",
        "])\n",
        "describe_mat(square_mat)\n",
        "describe_mat(non_square_mat)"
      ],
      "metadata": {
        "colab": {
          "base_uri": "https://localhost:8080/"
        },
        "id": "VY0u6Dm3-kGC",
        "outputId": "6100433d-bd27-46c0-cde0-ee8a0292d6bb"
      },
      "execution_count": null,
      "outputs": [
        {
          "output_type": "stream",
          "name": "stdout",
          "text": [
            "Matrix:\n",
            "[[1 2 5]\n",
            " [3 3 8]\n",
            " [6 1 7]]\n",
            "\n",
            "Shape:\t2\n",
            "Rank:\t2\n",
            "Is Square: True\n",
            "\n",
            "Matrix:\n",
            "[[1 2 5]\n",
            " [3 3 8]]\n",
            "\n",
            "Shape:\t2\n",
            "Rank:\t2\n",
            "Is Square: False\n",
            "\n"
          ]
        }
      ]
    },
    {
      "cell_type": "markdown",
      "source": [
        "### **According to element and matrix**"
      ],
      "metadata": {
        "id": "WFMwCV0rBEZR"
      }
    },
    {
      "cell_type": "markdown",
      "source": [
        "\n",
        "\n",
        "###**Null Matrix**\n",
        "\n",
        "The null matrix is the additive identity of any matrix; that is why it is advantageous. Also, adding a null matrix to any matrix does not influence the value of the matrix; therefore, recognized as an additive identity."
      ],
      "metadata": {
        "id": "jRlEzd6NBJFD"
      }
    },
    {
      "cell_type": "code",
      "source": [
        "def describe_mat(matrix):\n",
        "  if matrix.size > 0:\n",
        "    is_square = True if matrix.shape[0] == matrix.shape[1] else False\n",
        "    print(f'Matrix:\\n{matrix}\\n\\nShape:\\t{matrix.ndim}\\nRank:\\t{matrix.ndim}\\nIs Square: {is_square}\\n')\n",
        "  else:\n",
        "    print('Matrix is Null')"
      ],
      "metadata": {
        "id": "o9B42WZgBVqV"
      },
      "execution_count": null,
      "outputs": []
    },
    {
      "cell_type": "code",
      "source": [
        "null_mat = np.array([])\n",
        "describe_mat(null_mat)"
      ],
      "metadata": {
        "colab": {
          "base_uri": "https://localhost:8080/"
        },
        "id": "h3jGZAQdB9Yl",
        "outputId": "14538600-941e-424e-bb78-0a290b132fb2"
      },
      "execution_count": null,
      "outputs": [
        {
          "output_type": "stream",
          "name": "stdout",
          "text": [
            "Matrix is Null\n"
          ]
        }
      ]
    },
    {
      "cell_type": "markdown",
      "source": [
        "### **Zero Matrix**"
      ],
      "metadata": {
        "id": "uguZGo_sCHLF"
      }
    },
    {
      "cell_type": "markdown",
      "source": [
        "Zero matrix is an additive identity used for matrix addition. It is a matrix that is completely composed of Zero components"
      ],
      "metadata": {
        "id": "kwhKr4JXL9ql"
      }
    },
    {
      "cell_type": "markdown",
      "source": [
        "###### A zero matrix can be any rectangular matrix but with all elements having a value of 0."
      ],
      "metadata": {
        "id": "TCcpyKS1CTqq"
      }
    },
    {
      "cell_type": "code",
      "source": [
        "zero_mat_row = np.zeros((1,2))\n",
        "zero_mat_sqr = np.zeros((2,2))\n",
        "zero_mat_rct = np.zeros((3,2))\n",
        "\n",
        "print(f'Zero Row Matrix: \\n{zero_mat_row}')\n",
        "print(f'Zero Square Matrix: \\n{zero_mat_sqr}')\n",
        "print(f'Zero Rectangular Matrix: \\n{zero_mat_rct}')"
      ],
      "metadata": {
        "colab": {
          "base_uri": "https://localhost:8080/"
        },
        "id": "IfHQAa99Cbfi",
        "outputId": "8933f560-3435-4408-c337-1b2cd09884c7"
      },
      "execution_count": null,
      "outputs": [
        {
          "output_type": "stream",
          "name": "stdout",
          "text": [
            "Zero Row Matrix: \n",
            "[[0. 0.]]\n",
            "Zero Square Matrix: \n",
            "[[0. 0.]\n",
            " [0. 0.]]\n",
            "Zero Rectangular Matrix: \n",
            "[[0. 0.]\n",
            " [0. 0.]\n",
            " [0. 0.]]\n"
          ]
        }
      ]
    },
    {
      "cell_type": "markdown",
      "source": [
        "### **Once Matrix**"
      ],
      "metadata": {
        "id": "6DTSrfmKDwGk"
      }
    },
    {
      "cell_type": "markdown",
      "source": [
        "###### A ones matrix, just like the zero matrix, can be any rectangular matrix but all of its elements are 1s instead of 0s."
      ],
      "metadata": {
        "id": "2rG4nd3iEIPL"
      }
    },
    {
      "cell_type": "code",
      "source": [
        "ones_mat_row = np.ones((1,2))\n",
        "ones_mat_sqr = np.ones((2,2))\n",
        "ones_mat_rct = np.ones((3,2))\n",
        "\n",
        "print(f'Ones Row Matrix: \\n{ones_mat_row}')\n",
        "print(f'Ones Square Matrix: \\n{ones_mat_sqr}')\n",
        "print(f'Ones Rectangular Matrix: \\n{ones_mat_rct}')"
      ],
      "metadata": {
        "colab": {
          "base_uri": "https://localhost:8080/"
        },
        "id": "Vs22nD6CD0NH",
        "outputId": "72d36f82-b0ff-4f64-a7a8-d65d21a605ea"
      },
      "execution_count": null,
      "outputs": [
        {
          "output_type": "stream",
          "name": "stdout",
          "text": [
            "Ones Row Matrix: \n",
            "[[1. 1.]]\n",
            "Ones Square Matrix: \n",
            "[[1. 1.]\n",
            " [1. 1.]]\n",
            "Ones Rectangular Matrix: \n",
            "[[1. 1.]\n",
            " [1. 1.]\n",
            " [1. 1.]]\n"
          ]
        }
      ]
    },
    {
      "cell_type": "markdown",
      "source": [
        "### **Diagonal Matrix**"
      ],
      "metadata": {
        "id": "b24psXo1EqgT"
      }
    },
    {
      "cell_type": "markdown",
      "source": [
        "A Diagonal Matrix is a square matrix wherein all elements other than the primary diagonal are zeros, and the principal diagonal elements might be zeros or non-zeroes."
      ],
      "metadata": {
        "id": "B-ztLRKpMb4U"
      }
    },
    {
      "cell_type": "code",
      "source": [
        "np.array([\n",
        "    [2,0,0],\n",
        "    [0,3,0],\n",
        "    [0,0,5]\n",
        "])\n",
        "# a[1,1], a[2,2], a[3,3], .... a[n-1,n-1]"
      ],
      "metadata": {
        "colab": {
          "base_uri": "https://localhost:8080/"
        },
        "id": "pMogUn-2EscC",
        "outputId": "184faa7a-10cf-4dba-f8f9-d10734e632a0"
      },
      "execution_count": null,
      "outputs": [
        {
          "output_type": "execute_result",
          "data": {
            "text/plain": [
              "array([[2, 0, 0],\n",
              "       [0, 3, 0],\n",
              "       [0, 0, 5]])"
            ]
          },
          "metadata": {},
          "execution_count": 36
        }
      ]
    },
    {
      "cell_type": "code",
      "source": [
        "d = np.diag([2,3,5,7])\n",
        "d.shape[0] == d.shape[1]\n",
        "d"
      ],
      "metadata": {
        "colab": {
          "base_uri": "https://localhost:8080/"
        },
        "id": "sBRvSg9aFE-w",
        "outputId": "6c993dea-1d74-45bb-e65c-217519631e52"
      },
      "execution_count": null,
      "outputs": [
        {
          "output_type": "execute_result",
          "data": {
            "text/plain": [
              "array([[2, 0, 0, 0],\n",
              "       [0, 3, 0, 0],\n",
              "       [0, 0, 5, 0],\n",
              "       [0, 0, 0, 7]])"
            ]
          },
          "metadata": {},
          "execution_count": 38
        }
      ]
    },
    {
      "cell_type": "markdown",
      "source": [
        "### **Identity Matrix**"
      ],
      "metadata": {
        "id": "fF5N0XTXGAPz"
      }
    },
    {
      "cell_type": "markdown",
      "source": [
        "A square matrix with the elements of the main diagonal identical with one and the other components equal to zero are known as an identity matrix. In the Python programming language, array objects are detailed lists for vector and matrix calculation."
      ],
      "metadata": {
        "id": "H51LjOL39RbB"
      }
    },
    {
      "cell_type": "code",
      "source": [
        "np.eye(3)"
      ],
      "metadata": {
        "colab": {
          "base_uri": "https://localhost:8080/"
        },
        "id": "lC-s4ImCGDHI",
        "outputId": "19717a48-5216-4676-aa36-089ffe9f8f0c"
      },
      "execution_count": null,
      "outputs": [
        {
          "output_type": "execute_result",
          "data": {
            "text/plain": [
              "array([[1., 0., 0.],\n",
              "       [0., 1., 0.],\n",
              "       [0., 0., 1.]])"
            ]
          },
          "metadata": {},
          "execution_count": 39
        }
      ]
    },
    {
      "cell_type": "code",
      "source": [
        "np.identity(4)"
      ],
      "metadata": {
        "colab": {
          "base_uri": "https://localhost:8080/"
        },
        "id": "Bm6iRka0GML1",
        "outputId": "9c85db96-0ce8-41e7-9882-8988a385db99"
      },
      "execution_count": null,
      "outputs": [
        {
          "output_type": "execute_result",
          "data": {
            "text/plain": [
              "array([[1., 0., 0., 0.],\n",
              "       [0., 1., 0., 0.],\n",
              "       [0., 0., 1., 0.],\n",
              "       [0., 0., 0., 1.]])"
            ]
          },
          "metadata": {},
          "execution_count": 40
        }
      ]
    },
    {
      "cell_type": "markdown",
      "source": [
        "### **Upper Triangular Matrix**"
      ],
      "metadata": {
        "id": "9V5driQOGc-i"
      }
    },
    {
      "cell_type": "markdown",
      "source": [
        "In an Upper triangular matrix, all items below the main diagonal are zero in. Additionally, the matrix with zero components above the main diagonal is referred to as a lower triangular matrix."
      ],
      "metadata": {
        "id": "stdHiOwSNIDt"
      }
    },
    {
      "cell_type": "code",
      "source": [
        "np.array([\n",
        "    [1,2,3,4],\n",
        "    [0,3,1,-1],\n",
        "    [0,0,5,2],\n",
        "    [0,0,0,2]\n",
        "])"
      ],
      "metadata": {
        "colab": {
          "base_uri": "https://localhost:8080/"
        },
        "id": "EjAu2DrDGgoE",
        "outputId": "12b790af-4ea3-453d-b69b-82716082f596"
      },
      "execution_count": null,
      "outputs": [
        {
          "output_type": "execute_result",
          "data": {
            "text/plain": [
              "array([[ 1,  2,  3,  4],\n",
              "       [ 0,  3,  1, -1],\n",
              "       [ 0,  0,  5,  2],\n",
              "       [ 0,  0,  0,  2]])"
            ]
          },
          "metadata": {},
          "execution_count": 41
        }
      ]
    },
    {
      "cell_type": "markdown",
      "source": [
        "### **Lower Triangular Matrix**"
      ],
      "metadata": {
        "id": "g7XQVTUBG3JZ"
      }
    },
    {
      "cell_type": "markdown",
      "source": [
        "A matrix with no values above the diagonal is defined as a lower triangular matrix."
      ],
      "metadata": {
        "id": "Us34NHj59e_D"
      }
    },
    {
      "cell_type": "code",
      "source": [
        "np.array([\n",
        "  [1,2],\n",
        "  [2,1]\n",
        "])"
      ],
      "metadata": {
        "colab": {
          "base_uri": "https://localhost:8080/"
        },
        "id": "4M8OEeQ1G0TD",
        "outputId": "54d7dccd-e471-4384-d6f5-281b9d6ffabf"
      },
      "execution_count": null,
      "outputs": [
        {
          "output_type": "execute_result",
          "data": {
            "text/plain": [
              "array([[1, 2],\n",
              "       [2, 1]])"
            ]
          },
          "metadata": {},
          "execution_count": 64
        }
      ]
    },
    {
      "cell_type": "code",
      "source": [
        "np.array([\n",
        "    [1,0,0],\n",
        "    [5,3,0],\n",
        "    [7,8,5]\n",
        "])"
      ],
      "metadata": {
        "colab": {
          "base_uri": "https://localhost:8080/"
        },
        "id": "tDZjd7orG6Dw",
        "outputId": "936f951a-4b78-4775-f492-4a7beb7a80a8"
      },
      "execution_count": null,
      "outputs": [
        {
          "output_type": "execute_result",
          "data": {
            "text/plain": [
              "array([[1, 0, 0],\n",
              "       [5, 3, 0],\n",
              "       [7, 8, 5]])"
            ]
          },
          "metadata": {},
          "execution_count": 42
        }
      ]
    },
    {
      "cell_type": "markdown",
      "source": [
        "### **Practice**"
      ],
      "metadata": {
        "id": "ZamebuS8Hcpf"
      }
    },
    {
      "cell_type": "markdown",
      "source": [
        "###### 1. Given the linear combination below, try to create a corresponding matrix representing it.\n"
      ],
      "metadata": {
        "id": "_EuRsa6SHfT1"
      }
    },
    {
      "cell_type": "markdown",
      "source": [
        ":$$\\theta = 5x + 3y - z$$\n"
      ],
      "metadata": {
        "id": "rahHrAFEH1jf"
      }
    },
    {
      "cell_type": "markdown",
      "source": [
        "$$\n",
        "\\theta = \\begin{bmatrix} 5  &  3 & -1\\end{bmatrix} \\\\\n",
        "$$"
      ],
      "metadata": {
        "id": "aoYdA-x39za3"
      }
    },
    {
      "cell_type": "code",
      "source": [
        "theta = np.array([\n",
        "    [5, 3, -1]\n",
        "   \n",
        "])\n",
        "theta"
      ],
      "metadata": {
        "colab": {
          "base_uri": "https://localhost:8080/"
        },
        "id": "x5KmkgdR405h",
        "outputId": "efc5ed2f-4472-4fa2-a332-0005c2bc1f96"
      },
      "execution_count": null,
      "outputs": [
        {
          "output_type": "execute_result",
          "data": {
            "text/plain": [
              "array([[ 5,  3, -1]])"
            ]
          },
          "metadata": {},
          "execution_count": 11
        }
      ]
    },
    {
      "cell_type": "markdown",
      "source": [
        "###### 2. Given the system of linear combinations below, try to encode it as a matrix. Also describe the matrix.\n"
      ],
      "metadata": {
        "id": "xU4WzFjQH3o2"
      }
    },
    {
      "cell_type": "markdown",
      "source": [
        "$$\n",
        "A = \\left\\{\\begin{array}\n",
        "5x_1 + 2x_2 +x_3\\\\\n",
        "4x_2 - x_3\\\\\n",
        "10x_3\n",
        "\\end{array}\\right.\n",
        "$$\n"
      ],
      "metadata": {
        "id": "p9GoRRjOH5RI"
      }
    },
    {
      "cell_type": "markdown",
      "source": [
        "$$\n",
        "A=\\begin{bmatrix} 1 & 2 & 1 \\\\ 0 & 4 & -1 \\\\ 0 & 0 & 10\\end{bmatrix}\n",
        "$$"
      ],
      "metadata": {
        "id": "STgg5UXL91sn"
      }
    },
    {
      "cell_type": "markdown",
      "source": [
        "###### 3. Given the matrix below, express it as a linear combination in a markdown and a LaTeX markdown\n"
      ],
      "metadata": {
        "id": "IEooLDBKH73T"
      }
    },
    {
      "cell_type": "code",
      "source": [
        "G = np.array([\n",
        "    [1,7,8],\n",
        "    [2,2,2],\n",
        "    [4,6,7]\n",
        "])"
      ],
      "metadata": {
        "id": "6ePgtc9ZI3jL"
      },
      "execution_count": null,
      "outputs": []
    },
    {
      "cell_type": "markdown",
      "source": [
        "$$\n",
        "G = \\begin{bmatrix} 1 & 7 & 8 \\\\ 2 & 2 & 2 \\\\ 4 & 6 & 7\\end{bmatrix}\n",
        "$$"
      ],
      "metadata": {
        "id": "fz4QTD5S-CIL"
      }
    },
    {
      "cell_type": "markdown",
      "source": [
        "$$\n",
        "G = \\left\\{\n",
        "    \\begin{array}\\\n",
        "        1 + 7 + 8 \\\\\n",
        "        2 + 2 + 2 \\\\\n",
        "        4 + 6 + 7 \\\\\n",
        "    \\end{array}\n",
        "\\right. \\\\\n",
        " $$"
      ],
      "metadata": {
        "id": "TU1hRDiG-Fzv"
      }
    },
    {
      "cell_type": "markdown",
      "source": [
        "###### 4. Given the matrix below, display the output as a LaTeX markdown also express it as a system of linear combinations.\n",
        "\n"
      ],
      "metadata": {
        "id": "IxMJH8fXH-Vh"
      }
    },
    {
      "cell_type": "code",
      "source": [
        "H = np.tril(G)\n",
        "H\n"
      ],
      "metadata": {
        "colab": {
          "base_uri": "https://localhost:8080/"
        },
        "id": "Tky68Wa3I-Fz",
        "outputId": "99166c86-5d82-400b-9a21-856a870009e3"
      },
      "execution_count": null,
      "outputs": [
        {
          "output_type": "execute_result",
          "data": {
            "text/plain": [
              "array([[1, 0, 0],\n",
              "       [2, 2, 0],\n",
              "       [4, 6, 7]])"
            ]
          },
          "metadata": {},
          "execution_count": 5
        }
      ]
    },
    {
      "cell_type": "markdown",
      "source": [
        "$$\n",
        "H = \\left\\{\n",
        "    \\begin{array}\\\n",
        "             1 \\\\\n",
        "           2 + 2 \\\\\n",
        "         4 + 6 + 7 \\\\\n",
        "    \\end{array}\n",
        "\\right. \\\\\n",
        " $$"
      ],
      "metadata": {
        "id": "u15vj0is-YDb"
      }
    },
    {
      "cell_type": "markdown",
      "source": [
        "$$\n",
        "H = \\begin{bmatrix} 1 & 0 & 0 \\\\ 2 & 2 & 0 \\\\ 4 & 6 & 7\\end{bmatrix}\n",
        "$$"
      ],
      "metadata": {
        "id": "y5E4ElJg-byu"
      }
    },
    {
      "cell_type": "markdown",
      "source": [
        "### **Matrix Algebra**"
      ],
      "metadata": {
        "id": "FGpiYu4wJMPk"
      }
    },
    {
      "cell_type": "markdown",
      "source": [
        "Matrix algebra is a notation for simultaneous equations that simplifies their presentation and solution. It may be used to generate a brief explanation of a structural issue and a mathematical structure model."
      ],
      "metadata": {
        "id": "WmruW9YEPpgC"
      }
    },
    {
      "cell_type": "markdown",
      "source": [
        "#### Addition"
      ],
      "metadata": {
        "id": "ABNvC_JaJObs"
      }
    },
    {
      "cell_type": "code",
      "source": [
        "A = np.array([\n",
        "    [1,2],\n",
        "    [2,3],\n",
        "    [4,1]\n",
        "])\n",
        "B = np.array([\n",
        "    [2,2],\n",
        "    [0,0],\n",
        "    [1,1]\n",
        "])\n",
        "A+B"
      ],
      "metadata": {
        "colab": {
          "base_uri": "https://localhost:8080/"
        },
        "id": "GO1mYdO2JQwz",
        "outputId": "5aa76796-fdc7-4815-f53e-da108d94c78f"
      },
      "execution_count": null,
      "outputs": [
        {
          "output_type": "execute_result",
          "data": {
            "text/plain": [
              "array([[3, 4],\n",
              "       [2, 3],\n",
              "       [5, 2]])"
            ]
          },
          "metadata": {},
          "execution_count": 10
        }
      ]
    },
    {
      "cell_type": "code",
      "source": [
        "3+A ##Broadcasting\n",
        "# 3*np.ones(A.shape)+A"
      ],
      "metadata": {
        "id": "4OpaDnoEJvsH",
        "colab": {
          "base_uri": "https://localhost:8080/"
        },
        "outputId": "4de992b3-5db2-405b-9bfd-6a75debb571d"
      },
      "execution_count": null,
      "outputs": [
        {
          "output_type": "execute_result",
          "data": {
            "text/plain": [
              "array([[4, 5],\n",
              "       [5, 6],\n",
              "       [7, 4]])"
            ]
          },
          "metadata": {},
          "execution_count": 11
        }
      ]
    },
    {
      "cell_type": "code",
      "source": [
        "P = np.array([\n",
        "    [5,7,2],\n",
        "    [2,3,3],\n",
        "    [4,1,0]\n",
        "])\n",
        "Q = np.array([\n",
        "    [2,2,-3],\n",
        "    [0,0,1],\n",
        "    [1,1,0-3]\n",
        "])\n",
        "P + 2*Q"
      ],
      "metadata": {
        "id": "W-bcP1FJJ4Kj",
        "outputId": "e72b33f4-98ea-4590-da95-9567153d4399",
        "colab": {
          "base_uri": "https://localhost:8080/"
        }
      },
      "execution_count": null,
      "outputs": [
        {
          "output_type": "execute_result",
          "data": {
            "text/plain": [
              "array([[ 9, 11, -4],\n",
              "       [ 2,  3,  5],\n",
              "       [ 6,  3, -6]])"
            ]
          },
          "metadata": {},
          "execution_count": 12
        }
      ]
    },
    {
      "cell_type": "markdown",
      "source": [
        "#### Subtraction"
      ],
      "metadata": {
        "id": "S1d5pRlC-1yS"
      }
    },
    {
      "cell_type": "code",
      "source": [
        "A-B"
      ],
      "metadata": {
        "colab": {
          "base_uri": "https://localhost:8080/"
        },
        "id": "tHdMhprv_OER",
        "outputId": "a01be9de-39cd-4786-dcb5-bf1f5ce12c47"
      },
      "execution_count": null,
      "outputs": [
        {
          "output_type": "execute_result",
          "data": {
            "text/plain": [
              "array([[-1,  0],\n",
              "       [ 2,  3],\n",
              "       [ 3,  0]])"
            ]
          },
          "metadata": {},
          "execution_count": 13
        }
      ]
    },
    {
      "cell_type": "code",
      "source": [
        "2-B"
      ],
      "metadata": {
        "colab": {
          "base_uri": "https://localhost:8080/"
        },
        "id": "9eE-P5Gu_QDH",
        "outputId": "60380769-deef-4781-e715-51f90700cc1a"
      },
      "execution_count": null,
      "outputs": [
        {
          "output_type": "execute_result",
          "data": {
            "text/plain": [
              "array([[0, 0],\n",
              "       [2, 2],\n",
              "       [1, 1]])"
            ]
          },
          "metadata": {},
          "execution_count": 14
        }
      ]
    },
    {
      "cell_type": "markdown",
      "source": [
        "#### Element-Wise Multiplication"
      ],
      "metadata": {
        "id": "ETkRE18X-9kN"
      }
    },
    {
      "cell_type": "code",
      "source": [
        "A*B \n",
        "np.multiply(B,A)"
      ],
      "metadata": {
        "colab": {
          "base_uri": "https://localhost:8080/"
        },
        "id": "NZg0Fb3X_S6y",
        "outputId": "88e7baad-2ee1-4ad5-bd19-8f5038e90004"
      },
      "execution_count": null,
      "outputs": [
        {
          "output_type": "execute_result",
          "data": {
            "text/plain": [
              "array([[2, 4],\n",
              "       [0, 0],\n",
              "       [4, 1]])"
            ]
          },
          "metadata": {},
          "execution_count": 15
        }
      ]
    },
    {
      "cell_type": "code",
      "source": [
        "5*A"
      ],
      "metadata": {
        "colab": {
          "base_uri": "https://localhost:8080/"
        },
        "id": "CIhyVW24_T4p",
        "outputId": "5aa2ffa8-5838-411f-a770-a0bf6f44bbe5"
      },
      "execution_count": null,
      "outputs": [
        {
          "output_type": "execute_result",
          "data": {
            "text/plain": [
              "array([[ 5, 10],\n",
              "       [10, 15],\n",
              "       [20,  5]])"
            ]
          },
          "metadata": {},
          "execution_count": 16
        }
      ]
    },
    {
      "cell_type": "markdown",
      "source": [
        "## **Activity**"
      ],
      "metadata": {
        "id": "r9c0Z5_B_Wta"
      }
    },
    {
      "cell_type": "markdown",
      "source": [
        "### **Task 1**"
      ],
      "metadata": {
        "id": "rYoKps0O_as2"
      }
    },
    {
      "cell_type": "markdown",
      "source": [
        "Create a function named `mat_desc()` that througouhly describes a matrix, it should: <br>\n",
        "1. Displays the shape, size, and rank of the matrix. <br>\n",
        "2. Displays whether the matrix is square or non-square. <br>\n",
        "3. Displays whether the matrix is an empty matrix. <br>\n",
        "4. Displays if the matrix is an identity, ones, or zeros matrix <br>\n",
        "\n",
        "Use 5 sample matrices in which the actions and methods you have done. Present your results in the results ir shapes are not lower than $(3,3)$.\n",
        "In your methodology, create a flowchart discuss the section showing the description of each matrix you have declared."
      ],
      "metadata": {
        "id": "tMvV2vG7_h_y"
      }
    },
    {
      "cell_type": "code",
      "source": [
        "def mat_desc(matrix):\n",
        "  mat = np.array(matrix)\n",
        "  f = False\n",
        "  t = True\n",
        "\n",
        "  one = np.ones((matrix.shape[0], matrix.shape[1])),\n",
        "  zero = np.zeros((matrix.shape[0], matrix.shape[1]))\n",
        "\n",
        "  is_square = t if matrix.shape[0] == matrix.shape[1] else f\n",
        "  is_Empty = t if(matrix.shape[0] == 0 and matrix.shape[1] == 0) else f\n",
        "  is_uno = t if((one == matrix).all()) else f\n",
        "  is_zero = t  if((zero == matrix).all()) else f\n",
        "\n",
        "  print(f'Matrix:\\n{matrix}\\n\\nShape:\\t{matrix.shape}\\nSize:\\t{matrix.size}\\nRank:\\t{np.linalg.matrix_rank(mat)}\\nIs Square: {is_square}\\nMatrix is Empty: {is_Empty}\\nMatrix is an ones matrix: {is_uno}\\nMatrix is an zeros matrix: {is_zero}')\n",
        "\n",
        "  if matrix.shape[0]==matrix.shape[1]:\n",
        "    is_iden = t if (np.identity(matrix.shape[0]) == matrix).all() else f\n",
        "    print(f'Matrix is an Identity matrix: {is_iden}')\n",
        "  else:\n",
        "    print(f'Matrix is an Identity matrix: {f}')"
      ],
      "metadata": {
        "id": "NkIGIxk4_g1C"
      },
      "execution_count": null,
      "outputs": []
    },
    {
      "cell_type": "code",
      "source": [
        "A = np.array([\n",
        "    [0,0,1,8],\n",
        "    [1,1,6, 5],\n",
        "    [1,0,5, 7]\n",
        "])\n",
        "mat_desc(A)"
      ],
      "metadata": {
        "id": "nwGCssWy_qgo"
      },
      "execution_count": null,
      "outputs": []
    },
    {
      "cell_type": "code",
      "source": [
        "B = np.array([\n",
        "    [1, 0, 0],\n",
        "    [0, 1, 0],\n",
        "    [0, 0, 1]\n",
        "])\n",
        "mat_desc(B)"
      ],
      "metadata": {
        "colab": {
          "base_uri": "https://localhost:8080/"
        },
        "id": "U4gHwop1_qZW",
        "outputId": "662c3f62-21a9-45ae-f679-c1f06cb970f1"
      },
      "execution_count": null,
      "outputs": [
        {
          "output_type": "stream",
          "name": "stdout",
          "text": [
            "Matrix:\n",
            "[[1 0 0]\n",
            " [0 1 0]\n",
            " [0 0 1]]\n",
            "\n",
            "Shape:\t(3, 3)\n",
            "Size:\t9\n",
            "Rank:\t3\n",
            "Is Square: True\n",
            "Matrix is Empty: False\n",
            "Matrix is an ones matrix: False\n",
            "Matrix is an zeros matrix: False\n",
            "Matrix is an Identity matrix: True\n"
          ]
        }
      ]
    },
    {
      "cell_type": "code",
      "source": [
        "C = np.array([\n",
        "    [0, 0, 0],\n",
        "    [0, 0, 0],\n",
        "    [0, 0, 0]\n",
        "])\n",
        "mat_desc(C)"
      ],
      "metadata": {
        "colab": {
          "base_uri": "https://localhost:8080/"
        },
        "id": "c5MsJY6p_qSK",
        "outputId": "b89a528a-3e40-4804-d221-a3dad8557f0b"
      },
      "execution_count": null,
      "outputs": [
        {
          "output_type": "stream",
          "name": "stdout",
          "text": [
            "Matrix:\n",
            "[[0 0 0]\n",
            " [0 0 0]\n",
            " [0 0 0]]\n",
            "\n",
            "Shape:\t(3, 3)\n",
            "Size:\t9\n",
            "Rank:\t0\n",
            "Is Square: True\n",
            "Matrix is Empty: False\n",
            "Matrix is an ones matrix: False\n",
            "Matrix is an zeros matrix: True\n",
            "Matrix is an Identity matrix: False\n"
          ]
        }
      ]
    },
    {
      "cell_type": "code",
      "source": [
        "D = np.array([\n",
        "    [3,6,5,8,7],\n",
        "    [2,8,5,6,2],\n",
        "    [1,0,5,8,4]\n",
        "])\n",
        "mat_desc(D)"
      ],
      "metadata": {
        "colab": {
          "base_uri": "https://localhost:8080/"
        },
        "id": "rOdSm5Fo_qHE",
        "outputId": "2a7cb2b9-fdf0-4705-d3ed-18f6211d167b"
      },
      "execution_count": null,
      "outputs": [
        {
          "output_type": "stream",
          "name": "stdout",
          "text": [
            "Matrix:\n",
            "[[3 6 5 8 7]\n",
            " [2 8 5 6 2]\n",
            " [1 0 5 8 4]]\n",
            "\n",
            "Shape:\t(3, 5)\n",
            "Size:\t15\n",
            "Rank:\t3\n",
            "Is Square: False\n",
            "Matrix is Empty: False\n",
            "Matrix is an ones matrix: False\n",
            "Matrix is an zeros matrix: False\n",
            "Matrix is an Identity matrix: False\n"
          ]
        }
      ]
    },
    {
      "cell_type": "code",
      "source": [
        "E = np.array([\n",
        "    [1, 1, 1],\n",
        "    [1, 1, 1],\n",
        "    [1, 1, 1]\n",
        "])\n",
        "mat_desc(E)"
      ],
      "metadata": {
        "colab": {
          "base_uri": "https://localhost:8080/"
        },
        "id": "dk_c8KNm_p4u",
        "outputId": "ec186e0d-e3c0-43f7-ef3c-8f53b81c43a1"
      },
      "execution_count": null,
      "outputs": [
        {
          "output_type": "stream",
          "name": "stdout",
          "text": [
            "Matrix:\n",
            "[[1 1 1]\n",
            " [1 1 1]\n",
            " [1 1 1]]\n",
            "\n",
            "Shape:\t(3, 3)\n",
            "Size:\t9\n",
            "Rank:\t1\n",
            "Is Square: True\n",
            "Matrix is Empty: False\n",
            "Matrix is an ones matrix: True\n",
            "Matrix is an zeros matrix: False\n",
            "Matrix is an Identity matrix: False\n"
          ]
        }
      ]
    },
    {
      "cell_type": "markdown",
      "source": [
        "### **Task 2**"
      ],
      "metadata": {
        "id": "EG5h2US7_dzY"
      }
    },
    {
      "cell_type": "markdown",
      "source": [
        "Create a function named `mat_operations()` that takes in two matrices a input parameters it should:<br>\n",
        " 1. Determines if the matrices are viable for operation and returns your own error message if they are not viable.\n",
        " 2. Returns the sum of the matrices.\n",
        " 3. Returns the differen of the matrices.\n",
        " 4. Returns the element-wise multiplication of the matrices.\n",
        " 5. Returns the element-wise division of the matrices.\n",
        "\n",
        "Use 5 sample matrices in which their shapes are not lower than $(3,3)$.\n",
        "In your methodology, create a flowchart discuss the functions and methods you have done. Present your results in the results section showing the description of each matrix you have declared."
      ],
      "metadata": {
        "id": "JJnkGQxF_879"
      }
    },
    {
      "cell_type": "code",
      "source": [
        "def mat_operations(mat1,mat2):\n",
        "  if (len(mat1)<3 and len(mat1[0])<3) or (len(mat2)<3 and len(mat2[0])<3):\n",
        "    return 'Invalid Matrices. Please try again.'\n",
        "  \n",
        "  elif (len(mat1) !=len(mat2)) and (len(mat1[0]) != len(mat2[0])):\n",
        "    return 'Invalid Matrices. Please try again.'\n",
        "\n",
        "  else:\n",
        "    #Viable Matrices\n",
        "    print('1. Add Matrices (+) ')\n",
        "    print('2. Subtract Matrices (-) ')\n",
        "    print('3. Element-Wise Multiplication (*) ')\n",
        "    print('4. Element-Wise Division (/) ')\n",
        "\n",
        "    choice = int(input(\"Please Enter Desired Operation: \"))\n",
        "    result = [[None for _ in range(len(mat1))] for _ in range(len(mat1[0]))]\n",
        "\n",
        "    if choice==1:\n",
        "      #Perform Addition\n",
        "      for i in range(len(mat1)):\n",
        "        for j in range(len(mat1[0])):\n",
        "          result[i][j] = round(mat1[i][j] + mat2[i][j],3)\n",
        "\n",
        "      return 'The Sum of the Matrices are '+str(result)\n",
        "\n",
        "    if choice==2:\n",
        "      #Perform Subtraction\n",
        "      for i in range(len(mat1)):\n",
        "        for j in range(len(mat1[0])):\n",
        "          result[i][j] = round(mat1[i][j] - mat2[i][j],2)\n",
        "\n",
        "      return 'The Difference of the Matrices are '+str(result)\n",
        "\n",
        "    if choice==3:\n",
        "      #Perform Else-Wise Multiplication\n",
        "      for i in range(len(mat1)):\n",
        "        for j in range(len(mat1[0])):\n",
        "          result[i][j] = round(mat1[i][j] * mat2[i][j],4)\n",
        "\n",
        "      return 'The Product of the Matrices are '+str(result)\n",
        "\n",
        "    if choice==4:\n",
        "      #Perform Else-Wise Division\n",
        "      for i in range(len(mat1)):\n",
        "        for j in range(len(mat1[0])):\n",
        "          result[i][j] = round(mat1[i][j] / mat2[i][j],2)\n",
        "\n",
        "      return 'The Quotient of the Matrices are '+str(result)\n",
        "\n",
        "    else:\n",
        "      return 'No Operation Available. Please try again. '"
      ],
      "metadata": {
        "id": "whjgew-5AASj"
      },
      "execution_count": null,
      "outputs": []
    },
    {
      "cell_type": "code",
      "source": [
        "K = [[10.23,-8, 4.7843],\n",
        "    [0 ,-2.09, 3.867],\n",
        "    [0 ,1, 5]]\n",
        "\n",
        "P = [[2, -9.003, 7],\n",
        "    [0, 1.454, 3.097],\n",
        "    [1,4,0]]\n",
        "    \n",
        "print(mat_operations(K,P))"
      ],
      "metadata": {
        "colab": {
          "base_uri": "https://localhost:8080/"
        },
        "id": "3WYCqR6rAKJn",
        "outputId": "feaaee3b-231b-4d16-c9d2-669d075a2723"
      },
      "execution_count": null,
      "outputs": [
        {
          "output_type": "stream",
          "name": "stdout",
          "text": [
            "1. Add Matrices (+) \n",
            "2. Subtract Matrices (-) \n",
            "3. Element-Wise Multiplication (*) \n",
            "4. Element-Wise Division (/) \n",
            "Please Enter Desired Operation: 3\n",
            "The Product of the Matrices are [[20.46, 72.024, 33.4901], [0, -3.0389, 11.9761], [0, 4, 0]]\n"
          ]
        }
      ]
    },
    {
      "cell_type": "code",
      "source": [
        "Z = [[10,8],\n",
        "    [0 ,2]]\n",
        "\n",
        "\n",
        "L = [[2,9],\n",
        "    [0,1]]\n",
        "     \n",
        "print(mat_operations(Z,L))"
      ],
      "metadata": {
        "colab": {
          "base_uri": "https://localhost:8080/"
        },
        "id": "VxT8UGaRAMiY",
        "outputId": "f646e559-822b-41bc-9d9c-10c5473d1471"
      },
      "execution_count": null,
      "outputs": [
        {
          "output_type": "stream",
          "name": "stdout",
          "text": [
            "Invalid Matrices. Please try again.\n"
          ]
        }
      ]
    },
    {
      "cell_type": "code",
      "source": [
        "L = [[5, 10, 3],\n",
        "     [2, 5, 8]]\n",
        "\n",
        "I = [[ 2, 6],\n",
        "     [2, 8]]\n",
        "\n",
        "print(mat_operations(L,I))"
      ],
      "metadata": {
        "colab": {
          "base_uri": "https://localhost:8080/"
        },
        "id": "MgHcGpoKAOex",
        "outputId": "45b85d01-cafd-4067-c773-373617e6348f"
      },
      "execution_count": null,
      "outputs": [
        {
          "output_type": "stream",
          "name": "stdout",
          "text": [
            "Invalid Matrices. Please try again.\n"
          ]
        }
      ]
    },
    {
      "cell_type": "code",
      "source": [
        "D = [[30.432, -15, 5.21],\n",
        "    [5.25, 2.34, 5.89],\n",
        "    [2.00, 4.98, -2]]\n",
        "\n",
        "\n",
        "B = [[-5.55, -3.22, 5],\n",
        "     [5, 1, 1],\n",
        "    [2, 2, 2]]\n",
        "     \n",
        "print(mat_operations(D,B))"
      ],
      "metadata": {
        "colab": {
          "base_uri": "https://localhost:8080/"
        },
        "id": "ROA_DWVfAQLi",
        "outputId": "79b5abf2-03bd-48ab-8983-38abe5eb1ab6"
      },
      "execution_count": null,
      "outputs": [
        {
          "output_type": "stream",
          "name": "stdout",
          "text": [
            "1. Add Matrices (+) \n",
            "2. Subtract Matrices (-) \n",
            "3. Element-Wise Multiplication (*) \n",
            "4. Element-Wise Division (/) \n",
            "Please Enter Desired Operation: 4\n",
            "The Quotient of the Matrices are [[-5.48, 4.66, 1.04], [1.05, 2.34, 5.89], [1.0, 2.49, -1.0]]\n"
          ]
        }
      ]
    },
    {
      "cell_type": "code",
      "source": [
        "Y = [[30, -16, 5],\n",
        "    [25, 10, 14],\n",
        "    [-50, -30, 15]]\n",
        "\n",
        "\n",
        "K = [[2, 2, 2],\n",
        "     [2, 2, 2],\n",
        "    [2, 2, 2]]\n",
        "     \n",
        "print(mat_operations(Y,K))"
      ],
      "metadata": {
        "colab": {
          "base_uri": "https://localhost:8080/"
        },
        "id": "V__WfeuBATgS",
        "outputId": "f96a2b4f-16c8-4dd3-969d-a31419ea5967"
      },
      "execution_count": null,
      "outputs": [
        {
          "output_type": "stream",
          "name": "stdout",
          "text": [
            "1. Add Matrices (+) \n",
            "2. Subtract Matrices (-) \n",
            "3. Element-Wise Multiplication (*) \n",
            "4. Element-Wise Division (/) \n",
            "Please Enter Desired Operation: 2\n",
            "The Difference of the Matrices are [[28, -18, 3], [23, 8, 12], [-52, -32, 13]]\n"
          ]
        }
      ]
    },
    {
      "cell_type": "code",
      "source": [
        "P = [[30, -16, 5],\n",
        "    [25, 10, 14],\n",
        "    [2, 2, 10],\n",
        "    [-50, -30, 15]]\n",
        "\n",
        "\n",
        "J = [[2, 2],\n",
        "     [2, 2, 2],\n",
        "    [2, 2, 2]]\n",
        "     \n",
        "print(mat_operations(P,J))"
      ],
      "metadata": {
        "colab": {
          "base_uri": "https://localhost:8080/"
        },
        "id": "BbvCqurzAVFS",
        "outputId": "7eb2c3b8-cabc-4c51-c02f-be1005edbb30"
      },
      "execution_count": null,
      "outputs": [
        {
          "output_type": "stream",
          "name": "stdout",
          "text": [
            "Invalid Matrices. Please try again.\n"
          ]
        }
      ]
    },
    {
      "cell_type": "code",
      "source": [
        "F = [[2, 5, 7],\n",
        "     [3, 4, 5],\n",
        "     [6, 4, 2]]\n",
        "\n",
        "S = [[3, 4, 7],\n",
        "     [5, 2, 1],\n",
        "     [2, 7, 2]]\n",
        "\n",
        "print(mat_operations(F,S))"
      ],
      "metadata": {
        "colab": {
          "base_uri": "https://localhost:8080/"
        },
        "id": "521ZJEOcAWnX",
        "outputId": "8ca88ec7-c015-496e-e77f-e92f20c68302"
      },
      "execution_count": null,
      "outputs": [
        {
          "output_type": "stream",
          "name": "stdout",
          "text": [
            "1. Add Matrices (+) \n",
            "2. Subtract Matrices (-) \n",
            "3. Element-Wise Multiplication (*) \n",
            "4. Element-Wise Division (/) \n",
            "Please Enter Desired Operation: 1\n",
            "The Sum of the Matrices are [[5, 9, 14], [8, 6, 6], [8, 11, 4]]\n"
          ]
        }
      ]
    },
    {
      "cell_type": "code",
      "source": [
        "D = [[2, 3, 4, 7],\n",
        "     [5, 7, 4, 3],\n",
        "     [2, 8, 5, -2],\n",
        "     [2, 3, 6, 8, 10]]\n",
        "\n",
        "E = [[1,2, 4, 3],\n",
        "     [1, 1, 1, 2],\n",
        "     [2, 3, 5, 8],\n",
        "     [4, 3, 2, 1]]\n",
        "\n",
        "print(mat_operations(D,E))"
      ],
      "metadata": {
        "colab": {
          "base_uri": "https://localhost:8080/"
        },
        "id": "pgup9lUGAYDI",
        "outputId": "fdec3b5d-a524-41ac-d3f7-32cd7fac9574"
      },
      "execution_count": null,
      "outputs": [
        {
          "output_type": "stream",
          "name": "stdout",
          "text": [
            "1. Add Matrices (+) \n",
            "2. Subtract Matrices (-) \n",
            "3. Element-Wise Multiplication (*) \n",
            "4. Element-Wise Division (/) \n",
            "Please Enter Desired Operation: 4\n",
            "The Quotient of the Matrices are [[2.0, 1.5, 1.0, 2.33], [5.0, 7.0, 4.0, 1.5], [1.0, 2.67, 1.0, -0.25], [0.5, 1.0, 3.0, 8.0]]\n"
          ]
        }
      ]
    },
    {
      "cell_type": "code",
      "source": [
        "S = [[ 5, 4, 9, 10, 5, 2],\n",
        "     [2, 3, 4, 6, 8, 3],\n",
        "     [2, 5, 3, 2, 1, 5],\n",
        "     [4, 2, 2, 1, 0],\n",
        "     [5, 2, 1, 5, 3,2 ]]\n",
        "\n",
        "U =  [[2, 4, 1, 0, -5, -2.3456],\n",
        "     [2.00, -3.22, 4.21, -6, 8.22, 3.987],\n",
        "     [2, -5.55, 3.00, -2, 1.00, 5.987],\n",
        "     [-4, 2.21, 3, 5, 0],\n",
        "     [-5, 1, 1, 2, 2, 1 ]]\n",
        "\n",
        "print(mat_operations(S,U))"
      ],
      "metadata": {
        "colab": {
          "base_uri": "https://localhost:8080/"
        },
        "id": "mocaecBKAaEh",
        "outputId": "92e8dace-3db8-4036-f253-316fec0df1f1"
      },
      "execution_count": null,
      "outputs": [
        {
          "output_type": "stream",
          "name": "stdout",
          "text": [
            "1. Add Matrices (+) \n",
            "2. Subtract Matrices (-) \n",
            "3. Element-Wise Multiplication (*) \n",
            "4. Element-Wise Division (/) \n",
            "Please Enter Desired Operation: 5\n",
            "No Operation Available. Please try again. \n"
          ]
        }
      ]
    }
  ]
}